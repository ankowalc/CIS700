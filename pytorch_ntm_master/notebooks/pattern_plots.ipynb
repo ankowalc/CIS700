{
 "cells": [
  {
   "cell_type": "code",
   "execution_count": 11,
   "id": "lucky-display",
   "metadata": {},
   "outputs": [],
   "source": [
    "import matplotlib.pyplot as plt\n",
    "import numpy as np\n",
    "import pandas as pd\n",
    "\n",
    "from glob import glob\n",
    "import json\n",
    "import os\n",
    "import sys\n",
    "sys.path.append(os.path.abspath(os.getcwd() + \"./../\"))"
   ]
  },
  {
   "cell_type": "code",
   "execution_count": 12,
   "id": "identified-jerusalem",
   "metadata": {},
   "outputs": [],
   "source": [
    "import torch\n",
    "from IPython.display import Image as IPythonImage\n",
    "from PIL import Image, ImageDraw, ImageFont\n",
    "import io\n",
    "from tasks.copytask import dataloader\n",
    "from train import evaluate"
   ]
  },
  {
   "cell_type": "code",
   "execution_count": 13,
   "id": "empirical-count",
   "metadata": {},
   "outputs": [
    {
     "name": "stdout",
     "output_type": "stream",
     "text": [
      "Untitled.ipynb                \u001b[34mfonts\u001b[m\u001b[m/\n",
      "\u001b[31mcopy-task-plots.ipynb\u001b[m\u001b[m*        \u001b[31mrepeat-copy-task-plots.ipynb\u001b[m\u001b[m*\n"
     ]
    }
   ],
   "source": [
    "ls\n"
   ]
  },
  {
   "cell_type": "code",
   "execution_count": 5,
   "id": "false-column",
   "metadata": {},
   "outputs": [
    {
     "name": "stdout",
     "output_type": "stream",
     "text": [
      "Untitled.ipynb                \u001b[34mfonts\u001b[m\u001b[m/\n",
      "\u001b[31mcopy-task-plots.ipynb\u001b[m\u001b[m*        \u001b[31mrepeat-copy-task-plots.ipynb\u001b[m\u001b[m*\n"
     ]
    }
   ],
   "source": [
    "ls"
   ]
  },
  {
   "cell_type": "code",
   "execution_count": 6,
   "id": "random-durham",
   "metadata": {},
   "outputs": [
    {
     "data": {
      "text/plain": [
       "<module 'io' from '/anaconda3/lib/python3.7/io.py'>"
      ]
     },
     "execution_count": 6,
     "metadata": {},
     "output_type": "execute_result"
    }
   ],
   "source": [
    "io"
   ]
  },
  {
   "cell_type": "code",
   "execution_count": null,
   "id": "alternate-joseph",
   "metadata": {},
   "outputs": [],
   "source": []
  }
 ],
 "metadata": {
  "kernelspec": {
   "display_name": "Python 3",
   "language": "python",
   "name": "python3"
  },
  "language_info": {
   "codemirror_mode": {
    "name": "ipython",
    "version": 3
   },
   "file_extension": ".py",
   "mimetype": "text/x-python",
   "name": "python",
   "nbconvert_exporter": "python",
   "pygments_lexer": "ipython3",
   "version": "3.7.3"
  }
 },
 "nbformat": 4,
 "nbformat_minor": 5
}
