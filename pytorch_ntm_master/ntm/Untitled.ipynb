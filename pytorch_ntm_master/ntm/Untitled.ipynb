{
 "cells": [
  {
   "cell_type": "code",
   "execution_count": 5,
   "id": "intelligent-handbook",
   "metadata": {},
   "outputs": [],
   "source": [
    "import random\n",
    "\n",
    "from attr import attrs, attrib, Factory\n",
    "import torch\n",
    "from torch import nn\n",
    "from torch import optim\n",
    "import numpy as np"
   ]
  },
  {
   "cell_type": "code",
   "execution_count": 12,
   "id": "focused-shipping",
   "metadata": {},
   "outputs": [],
   "source": [
    "\n",
    "name = attrib(default=\"repeat-copy-task\")\n",
    "controller_size = attrib(default=100, converter=int)\n",
    "controller_layers = attrib(default=1, converter=int)\n",
    "num_heads = attrib(default=1, converter=int)\n",
    "sequence_width = attrib(default=8, converter=int)\n",
    "sequence_min_len = attrib(default=1, converter=int)\n",
    "sequence_max_len = attrib(default=10, converter=int)\n",
    "repeat_min = attrib(default=1, converter=int)\n",
    "repeat_max = attrib(default=10, converter=int)\n",
    "memory_n = attrib(default=128, converter=int)\n",
    "memory_m = attrib(default=20, converter=int)\n",
    "num_batches = attrib(default=250000, converter=int)\n",
    "batch_size = attrib(default=1, converter=int)\n",
    "rmsprop_lr = attrib(default=1e-4, converter=float)\n",
    "rmsprop_momentum = attrib(default=0.9, converter=float)\n",
    "rmsprop_alpha = attrib(default=0.95, converter=float)"
   ]
  },
  {
   "cell_type": "code",
   "execution_count": 17,
   "id": "completed-reward",
   "metadata": {},
   "outputs": [
    {
     "data": {
      "text/plain": [
       "<function attr._make.attrib(default=NOTHING, validator=None, repr=True, cmp=None, hash=None, init=True, metadata=None, type=None, converter=None, factory=None, kw_only=False, eq=None, order=None, on_setattr=None)>"
      ]
     },
     "execution_count": 17,
     "metadata": {},
     "output_type": "execute_result"
    }
   ],
   "source": [
    "attrib"
   ]
  },
  {
   "cell_type": "code",
   "execution_count": 72,
   "id": "alpine-model",
   "metadata": {},
   "outputs": [
    {
     "name": "stdout",
     "output_type": "stream",
     "text": [
      "5\n",
      "5\n"
     ]
    }
   ],
   "source": [
    "seq_len = random.randint(1, 8)\n",
    "reps = random.randint(1, 10)\n",
    "print(seq_len)\n",
    "print(reps)\n"
   ]
  },
  {
   "cell_type": "code",
   "execution_count": 73,
   "id": "senior-quick",
   "metadata": {},
   "outputs": [
    {
     "data": {
      "text/plain": [
       "array([[[1, 0, 0, 1, 1, 1, 1, 1]],\n",
       "\n",
       "       [[1, 1, 1, 0, 0, 1, 0, 1]],\n",
       "\n",
       "       [[1, 1, 1, 0, 1, 0, 0, 0]],\n",
       "\n",
       "       [[0, 0, 0, 1, 0, 0, 0, 0]],\n",
       "\n",
       "       [[0, 1, 0, 0, 1, 0, 0, 1]]])"
      ]
     },
     "execution_count": 73,
     "metadata": {},
     "output_type": "execute_result"
    }
   ],
   "source": [
    "batch_size=1\n",
    "seq_width=8\n",
    "seq = np.random.binomial(1, 0.5, (seq_len, batch_size, seq_width))\n",
    "seq    \n",
    "#seq = torch.from_numpy(seq)"
   ]
  },
  {
   "cell_type": "code",
   "execution_count": 65,
   "id": "alike-milton",
   "metadata": {},
   "outputs": [
    {
     "ename": "AttributeError",
     "evalue": "module 'numpy' has no attribute 'zeroes'",
     "output_type": "error",
     "traceback": [
      "\u001b[0;31m---------------------------------------------------------------------------\u001b[0m",
      "\u001b[0;31mAttributeError\u001b[0m                            Traceback (most recent call last)",
      "\u001b[0;32m<ipython-input-65-5f3cd4a2632e>\u001b[0m in \u001b[0;36m<module>\u001b[0;34m\u001b[0m\n\u001b[1;32m      1\u001b[0m \u001b[0mbatch_size\u001b[0m\u001b[0;34m=\u001b[0m\u001b[0;36m1\u001b[0m\u001b[0;34m\u001b[0m\u001b[0;34m\u001b[0m\u001b[0m\n\u001b[1;32m      2\u001b[0m \u001b[0mseq_width\u001b[0m\u001b[0;34m=\u001b[0m\u001b[0;36m8\u001b[0m\u001b[0;34m\u001b[0m\u001b[0;34m\u001b[0m\u001b[0m\n\u001b[0;32m----> 3\u001b[0;31m \u001b[0mseq\u001b[0m \u001b[0;34m=\u001b[0m \u001b[0mnp\u001b[0m\u001b[0;34m.\u001b[0m\u001b[0mzeroes\u001b[0m\u001b[0;34m.\u001b[0m\u001b[0mbinomial\u001b[0m\u001b[0;34m(\u001b[0m\u001b[0;36m1\u001b[0m\u001b[0;34m,\u001b[0m \u001b[0;36m0.5\u001b[0m\u001b[0;34m,\u001b[0m \u001b[0;34m(\u001b[0m\u001b[0mseq_len\u001b[0m\u001b[0;34m,\u001b[0m \u001b[0mbatch_size\u001b[0m\u001b[0;34m,\u001b[0m \u001b[0mseq_width\u001b[0m\u001b[0;34m)\u001b[0m\u001b[0;34m)\u001b[0m\u001b[0;34m\u001b[0m\u001b[0;34m\u001b[0m\u001b[0m\n\u001b[0m\u001b[1;32m      4\u001b[0m \u001b[0mseq\u001b[0m\u001b[0;34m\u001b[0m\u001b[0;34m\u001b[0m\u001b[0m\n",
      "\u001b[0;32m/anaconda3/lib/python3.7/site-packages/numpy/__init__.py\u001b[0m in \u001b[0;36m__getattr__\u001b[0;34m(attr)\u001b[0m\n\u001b[1;32m    213\u001b[0m             \u001b[0;32melse\u001b[0m\u001b[0;34m:\u001b[0m\u001b[0;34m\u001b[0m\u001b[0;34m\u001b[0m\u001b[0m\n\u001b[1;32m    214\u001b[0m                 raise AttributeError(\"module {!r} has no attribute \"\n\u001b[0;32m--> 215\u001b[0;31m                                      \"{!r}\".format(__name__, attr))\n\u001b[0m\u001b[1;32m    216\u001b[0m \u001b[0;34m\u001b[0m\u001b[0m\n\u001b[1;32m    217\u001b[0m         \u001b[0;32mdef\u001b[0m \u001b[0m__dir__\u001b[0m\u001b[0;34m(\u001b[0m\u001b[0;34m)\u001b[0m\u001b[0;34m:\u001b[0m\u001b[0;34m\u001b[0m\u001b[0;34m\u001b[0m\u001b[0m\n",
      "\u001b[0;31mAttributeError\u001b[0m: module 'numpy' has no attribute 'zeroes'"
     ]
    }
   ],
   "source": [
    "batch_size=1\n",
    "seq_width=8\n",
    "seq = np.zeroes.binomial(1, 0.5, (seq_len, batch_size, seq_width))\n",
    "seq"
   ]
  },
  {
   "cell_type": "code",
   "execution_count": 23,
   "id": "jewish-prerequisite",
   "metadata": {},
   "outputs": [
    {
     "data": {
      "text/plain": [
       "<function RandomState.binomial>"
      ]
     },
     "execution_count": 23,
     "metadata": {},
     "output_type": "execute_result"
    }
   ],
   "source": [
    "np.random.binomial"
   ]
  },
  {
   "cell_type": "code",
   "execution_count": null,
   "id": "wrapped-costa",
   "metadata": {},
   "outputs": [],
   "source": []
  }
 ],
 "metadata": {
  "kernelspec": {
   "display_name": "Python 3",
   "language": "python",
   "name": "python3"
  },
  "language_info": {
   "codemirror_mode": {
    "name": "ipython",
    "version": 3
   },
   "file_extension": ".py",
   "mimetype": "text/x-python",
   "name": "python",
   "nbconvert_exporter": "python",
   "pygments_lexer": "ipython3",
   "version": "3.7.3"
  }
 },
 "nbformat": 4,
 "nbformat_minor": 5
}
